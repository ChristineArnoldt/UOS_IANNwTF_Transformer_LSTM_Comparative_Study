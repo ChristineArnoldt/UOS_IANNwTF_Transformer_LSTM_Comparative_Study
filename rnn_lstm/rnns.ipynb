{
 "cells": [
  {
   "cell_type": "code",
   "execution_count": 409,
   "id": "initial_id",
   "metadata": {
    "collapsed": true,
    "ExecuteTime": {
     "end_time": "2024-03-25T07:03:06.253653Z",
     "start_time": "2024-03-25T07:03:06.226269Z"
    }
   },
   "outputs": [],
   "source": [
    "import tensorflow as tf\n",
    "import numpy as np\n",
    "import datetime"
   ]
  },
  {
   "cell_type": "code",
   "outputs": [],
   "source": [
    "#-----------HYPERPARAMETERS----------------#\n",
    "\n",
    "SEQUENCE_LENGTH = [2, 4, 8, 16, 32]\n",
    "HIDDEN_LENGTH = 20\n",
    "N_FEATURES = 1\n",
    "\n",
    "LEARNING_RATE = 1e-3\n",
    "EPOCHS = 100\n",
    "CUMSUM = True\n",
    "NUM_OF_LAYERS = 3\n"
   ],
   "metadata": {
    "collapsed": false,
    "ExecuteTime": {
     "end_time": "2024-03-25T07:03:07.298828Z",
     "start_time": "2024-03-25T07:03:07.296024Z"
    }
   },
   "id": "ebaea4cd2610d233",
   "execution_count": 410
  },
  {
   "cell_type": "code",
   "outputs": [],
   "source": [
    "def create_dataset_for_sum_prediction(n_samples, sequence_length, n_features, validation):\n",
    "    \"\"\"\n",
    "    Function to create a dataset for the sum prediction task. The function generates random integers between 0 and 10 and calculates the sum of the sequence\n",
    "    :param n_samples:  number of samples in the dataset\n",
    "    :param sequence_length: length of the sequence\n",
    "    :param n_features: number of features in the sequence\n",
    "    :return: a tf.data.Dataset object containing the input and output pairs\n",
    "    \"\"\"\n",
    "    x = tf.cast(np.random.randint(low=0, high=11, size=(n_samples, sequence_length, n_features)), tf.float32)\n",
    "    sums = []\n",
    "    for sample in range(n_samples):\n",
    "        value = x[sample, :, :]\n",
    "        sums.append(tf.reduce_sum(value))\n",
    "    y = tf.cast(tf.expand_dims(tf.convert_to_tensor(sums), axis=1), tf.float32)\n",
    "    if not validation:\n",
    "        return tf.data.Dataset.from_tensor_slices((x, y)).shuffle(n_samples).batch(32).prefetch(tf.data.AUTOTUNE)\n",
    "    else:\n",
    "        return tf.data.Dataset.from_tensor_slices((x, y)).batch(512).prefetch(tf.data.AUTOTUNE)"
   ],
   "metadata": {
    "collapsed": false,
    "ExecuteTime": {
     "end_time": "2024-03-25T07:03:08.096685Z",
     "start_time": "2024-03-25T07:03:08.090998Z"
    }
   },
   "id": "3ef690e5fbcd1c22",
   "execution_count": 411
  },
  {
   "cell_type": "code",
   "outputs": [],
   "source": [
    "def create_dataset_for_cum_sum_prediction(n_samples, sequence_length, n_features, validation):\n",
    "    \"\"\"\n",
    "    Function to create a dataset for the cumulative sum prediction task. The function generates random integers between 0 and 10 and calculates the cumulative sum of the sequence\n",
    "    :param n_samples: number of samples in the dataset\n",
    "    :param sequence_length: length of the sequence\n",
    "    :param n_features: number of features in the sequence\n",
    "    :return: a tf.data.Dataset object containing the input and output pairs\n",
    "    \"\"\"\n",
    "    x = tf.cast(np.random.randint(low=0, high=11, size=(n_samples, sequence_length, n_features)), tf.float32)\n",
    "    sums = []\n",
    "    for sample in range(n_samples):\n",
    "        value = x[sample, :, :]\n",
    "        sums.append(tf.cumsum(value, axis=0))\n",
    "    y = tf.cast(tf.convert_to_tensor(sums), tf.float32)\n",
    "    if not validation:\n",
    "        return tf.data.Dataset.from_tensor_slices((x, y)).batch(32).prefetch(tf.data.AUTOTUNE)\n",
    "    else:\n",
    "        return tf.data.Dataset.from_tensor_slices((x, y)).shuffle(n_samples).batch(512).prefetch(tf.data.AUTOTUNE)"
   ],
   "metadata": {
    "collapsed": false,
    "ExecuteTime": {
     "end_time": "2024-03-25T07:03:08.541341Z",
     "start_time": "2024-03-25T07:03:08.539588Z"
    }
   },
   "id": "b626d56c5abe3958",
   "execution_count": 412
  },
  {
   "cell_type": "code",
   "outputs": [],
   "source": [
    "class LSTMCell(tf.keras.layers.AbstractRNNCell):\n",
    "    \"\"\"\n",
    "    Custom LSTM cell implementation\n",
    "    \"\"\"\n",
    "    \n",
    "    def __init__(self, input_length, hidden_length):\n",
    "        \"\"\"\n",
    "        Initializes the LSTM cell with input and hidden dimensions\n",
    "        \n",
    "        :param input_length: Length of the input vector\n",
    "        :param hidden_length: Length of the hidden state vector\n",
    "        \"\"\"\n",
    "        super(LSTMCell, self).__init__()\n",
    "        self.input_length = input_length\n",
    "        self.hidden_length = hidden_length\n",
    "\n",
    "        # forget gate components\n",
    "        self.linear_forget_w1 = tf.keras.layers.Dense(self.hidden_length, use_bias=True)\n",
    "        self.linear_forget_r1 = tf.keras.layers.Dense(self.hidden_length, use_bias=False)\n",
    "\n",
    "        # input gate components\n",
    "        self.linear_gate_w2 = tf.keras.layers.Dense(self.hidden_length, use_bias=True)\n",
    "        self.linear_gate_r2 = tf.keras.layers.Dense(self.hidden_length, use_bias=False)\n",
    "\n",
    "        # cell memory components\n",
    "        self.linear_gate_w3 = tf.keras.layers.Dense(self.hidden_length, use_bias=True)\n",
    "        self.linear_gate_r3 = tf.keras.layers.Dense(self.hidden_length, use_bias=False)\n",
    "\n",
    "        # out gate components\n",
    "        self.linear_gate_w4 = tf.keras.layers.Dense(self.hidden_length, use_bias=True)\n",
    "        self.linear_gate_r4 = tf.keras.layers.Dense(self.hidden_length, use_bias=False)\n",
    "\n",
    "        self.sigmoid = tf.keras.layers.Activation('sigmoid')\n",
    "        self.tanh = tf.keras.layers.Activation('tanh')\n",
    "\n",
    "    @property\n",
    "    def state_size(self):\n",
    "        \"\"\"\n",
    "        Returns the size of the LSTM cell state\n",
    "        \"\"\"\n",
    "        return self.hidden_length, self.hidden_length\n",
    "\n",
    "    def call(self, inputs, states):\n",
    "        \"\"\"\n",
    "        Performs the forward pass through the LSTM cell\n",
    "        \n",
    "        :param inputs: Input tensor\n",
    "        :param states: Tuple containing the previous hidden state and cell state\n",
    "        \"\"\"\n",
    "        \n",
    "        h, c = states\n",
    "\n",
    "        # forget gate\n",
    "        f = self.sigmoid(self.linear_forget_w1(inputs) + self.linear_forget_r1(h))\n",
    "\n",
    "        # input gate\n",
    "        i = self.sigmoid(self.linear_gate_w2(inputs) + self.linear_gate_r2(h))\n",
    "\n",
    "        # cell memory\n",
    "        g = self.tanh(self.linear_gate_w3(inputs) + self.linear_gate_r3(h))\n",
    "        c_next = f * c + i * g\n",
    "\n",
    "        # output gate\n",
    "        o = self.sigmoid(self.linear_gate_w4(inputs) + self.linear_gate_r4(h))\n",
    "\n",
    "        # next hidden state\n",
    "        h_next = o * self.tanh(c_next)\n",
    "\n",
    "        return h_next, [h_next, c_next]\n"
   ],
   "metadata": {
    "collapsed": false,
    "ExecuteTime": {
     "end_time": "2024-03-25T07:03:09.205923Z",
     "start_time": "2024-03-25T07:03:09.202970Z"
    }
   },
   "id": "6803e75adae3ec2d",
   "execution_count": 413
  },
  {
   "cell_type": "code",
   "outputs": [],
   "source": [
    "class RNNModel(tf.keras.Model):\n",
    "    def __init__(self, num_layers, sequence_length, hidden_length, cumsum):\n",
    "        super().__init__()\n",
    "        \n",
    "        self.rnn_cells = [LSTMCell(input_length=sequence_length, hidden_length=hidden_length) for _ in range(num_layers)]\n",
    "        \n",
    "        self.rnn_layers = [tf.keras.layers.RNN(cell, return_sequences=cumsum, unroll=True) for cell in self.rnn_cells]\n",
    "        \n",
    "        if CUMSUM:\n",
    "            self.output_layer = tf.keras.layers.Dense(sequence_length)\n",
    "        else:\n",
    "            self.output_layer = tf.keras.layers.Dense(1)\n",
    "\n",
    "        self.metrics_list = [tf.keras.metrics.Mean(name=\"loss\")]\n",
    "\n",
    "    @property\n",
    "    def metrics(self):\n",
    "        return self.metrics_list\n",
    "\n",
    "    def reset_metrics(self):\n",
    "        for metric in self.metrics:\n",
    "            metric.reset_state()\n",
    "\n",
    "    def call(self, sequence, training=False):\n",
    "\n",
    "        x = sequence\n",
    "        for layer in self.rnn_layers:\n",
    "            x = layer(x)\n",
    "\n",
    "        return self.output_layer(x)\n",
    "\n",
    "    def train_step(self, data):\n",
    "        \"\"\"\n",
    "        Standard train_step method\n",
    "        :param data: \n",
    "        :return: \n",
    "        \"\"\"\n",
    "\n",
    "        sequence, label = data\n",
    "        with tf.GradientTape() as tape:\n",
    "            output = self.call(sequence, training=True)\n",
    "            loss = self.compiled_loss(label, output, regularization_losses=self.losses)\n",
    "        gradients = tape.gradient(loss, self.trainable_variables)\n",
    "\n",
    "        self.optimizer.apply_gradients(zip(gradients, self.trainable_variables))\n",
    "\n",
    "        self.metrics[0].update_state(loss)\n",
    "\n",
    "        return {m.name : m.result() for m in self.metrics}\n",
    "\n",
    "    def test_step(self, data):\n",
    "        \"\"\"\n",
    "        Standard test_step method\n",
    "        :param data: \n",
    "        :return: \n",
    "        \"\"\"\n",
    "\n",
    "        sequence, label = data\n",
    "        output = self.call(sequence, training=False)\n",
    "        loss = self.compiled_loss(label, output, regularization_losses=self.losses)\n",
    "\n",
    "        self.metrics[0].update_state(loss)\n",
    "\n",
    "        return {m.name : m.result() for m in self.metrics}"
   ],
   "metadata": {
    "collapsed": false,
    "ExecuteTime": {
     "end_time": "2024-03-25T07:03:09.997705Z",
     "start_time": "2024-03-25T07:03:09.992199Z"
    }
   },
   "id": "533d7d1aa468e09f",
   "execution_count": 414
  },
  {
   "cell_type": "code",
   "outputs": [
    {
     "name": "stderr",
     "output_type": "stream",
     "text": [
      "2024-03-25 08:07:32.548245: I tensorflow/core/common_runtime/executor.cc:1197] [/device:CPU:0] (DEBUG INFO) Executor start aborting (this does not indicate an error and you can ignore this message): INVALID_ARGUMENT: You must feed a value for placeholder tensor 'Placeholder/_1' with dtype float and shape [1024,2,1]\n",
      "\t [[{{node Placeholder/_1}}]]\n",
      "2024-03-25 08:07:33.224107: I tensorflow/core/common_runtime/executor.cc:1197] [/device:CPU:0] (DEBUG INFO) Executor start aborting (this does not indicate an error and you can ignore this message): INVALID_ARGUMENT: You must feed a value for placeholder tensor 'Placeholder/_0' with dtype float and shape [512,2,1]\n",
      "\t [[{{node Placeholder/_0}}]]\n",
      "2024-03-25 08:07:33.224208: I tensorflow/core/common_runtime/executor.cc:1197] [/device:CPU:0] (DEBUG INFO) Executor start aborting (this does not indicate an error and you can ignore this message): INVALID_ARGUMENT: You must feed a value for placeholder tensor 'Placeholder/_1' with dtype float and shape [512,2,1]\n",
      "\t [[{{node Placeholder/_1}}]]\n",
      "2024-03-25 08:07:36.110395: I tensorflow/core/common_runtime/executor.cc:1197] [/device:CPU:0] (DEBUG INFO) Executor start aborting (this does not indicate an error and you can ignore this message): INVALID_ARGUMENT: You must feed a value for placeholder tensor 'Placeholder/_1' with dtype float and shape [1024,4,1]\n",
      "\t [[{{node Placeholder/_1}}]]\n",
      "2024-03-25 08:07:37.577081: I tensorflow/core/common_runtime/executor.cc:1197] [/device:CPU:0] (DEBUG INFO) Executor start aborting (this does not indicate an error and you can ignore this message): INVALID_ARGUMENT: You must feed a value for placeholder tensor 'Placeholder/_1' with dtype float and shape [512,4,1]\n",
      "\t [[{{node Placeholder/_1}}]]\n",
      "2024-03-25 08:07:37.577175: I tensorflow/core/common_runtime/executor.cc:1197] [/device:CPU:0] (DEBUG INFO) Executor start aborting (this does not indicate an error and you can ignore this message): INVALID_ARGUMENT: You must feed a value for placeholder tensor 'Placeholder/_1' with dtype float and shape [512,4,1]\n",
      "\t [[{{node Placeholder/_1}}]]\n",
      "2024-03-25 08:07:41.302156: I tensorflow/core/common_runtime/executor.cc:1197] [/device:CPU:0] (DEBUG INFO) Executor start aborting (this does not indicate an error and you can ignore this message): INVALID_ARGUMENT: You must feed a value for placeholder tensor 'Placeholder/_1' with dtype float and shape [1024,8,1]\n",
      "\t [[{{node Placeholder/_1}}]]\n",
      "2024-03-25 08:07:42.841019: I tensorflow/core/common_runtime/executor.cc:1197] [/device:CPU:0] (DEBUG INFO) Executor start aborting (this does not indicate an error and you can ignore this message): INVALID_ARGUMENT: You must feed a value for placeholder tensor 'Placeholder/_1' with dtype float and shape [512,8,1]\n",
      "\t [[{{node Placeholder/_1}}]]\n",
      "2024-03-25 08:07:42.841119: I tensorflow/core/common_runtime/executor.cc:1197] [/device:CPU:0] (DEBUG INFO) Executor start aborting (this does not indicate an error and you can ignore this message): INVALID_ARGUMENT: You must feed a value for placeholder tensor 'Placeholder/_1' with dtype float and shape [512,8,1]\n",
      "\t [[{{node Placeholder/_1}}]]\n",
      "2024-03-25 08:07:48.420242: I tensorflow/core/common_runtime/executor.cc:1197] [/device:CPU:0] (DEBUG INFO) Executor start aborting (this does not indicate an error and you can ignore this message): INVALID_ARGUMENT: You must feed a value for placeholder tensor 'Placeholder/_1' with dtype float and shape [1024,16,1]\n",
      "\t [[{{node Placeholder/_1}}]]\n",
      "2024-03-25 08:07:51.390253: I tensorflow/core/common_runtime/executor.cc:1197] [/device:CPU:0] (DEBUG INFO) Executor start aborting (this does not indicate an error and you can ignore this message): INVALID_ARGUMENT: You must feed a value for placeholder tensor 'Placeholder/_1' with dtype float and shape [512,16,1]\n",
      "\t [[{{node Placeholder/_1}}]]\n",
      "2024-03-25 08:07:51.390355: I tensorflow/core/common_runtime/executor.cc:1197] [/device:CPU:0] (DEBUG INFO) Executor start aborting (this does not indicate an error and you can ignore this message): INVALID_ARGUMENT: You must feed a value for placeholder tensor 'Placeholder/_1' with dtype float and shape [512,16,1]\n",
      "\t [[{{node Placeholder/_1}}]]\n",
      "2024-03-25 08:08:00.955934: I tensorflow/core/common_runtime/executor.cc:1197] [/device:CPU:0] (DEBUG INFO) Executor start aborting (this does not indicate an error and you can ignore this message): INVALID_ARGUMENT: You must feed a value for placeholder tensor 'Placeholder/_1' with dtype float and shape [1024,32,1]\n",
      "\t [[{{node Placeholder/_1}}]]\n",
      "2024-03-25 08:08:07.373189: I tensorflow/core/common_runtime/executor.cc:1197] [/device:CPU:0] (DEBUG INFO) Executor start aborting (this does not indicate an error and you can ignore this message): INVALID_ARGUMENT: You must feed a value for placeholder tensor 'Placeholder/_0' with dtype float and shape [512,32,1]\n",
      "\t [[{{node Placeholder/_0}}]]\n",
      "2024-03-25 08:08:07.373290: I tensorflow/core/common_runtime/executor.cc:1197] [/device:CPU:0] (DEBUG INFO) Executor start aborting (this does not indicate an error and you can ignore this message): INVALID_ARGUMENT: You must feed a value for placeholder tensor 'Placeholder/_1' with dtype float and shape [512,32,1]\n",
      "\t [[{{node Placeholder/_1}}]]\n"
     ]
    }
   ],
   "source": [
    "#-----------Loop for different sequence lengths----------------#\n",
    "\n",
    "for length in SEQUENCE_LENGTH:\n",
    "    train_dataset = create_dataset_for_cum_sum_prediction(1024, length, 1, False)\n",
    "    val_dataset = create_dataset_for_cum_sum_prediction(512, length, 1, True)\n",
    "    \n",
    "    model = RNNModel(num_layers=NUM_OF_LAYERS, sequence_length=length, hidden_length=HIDDEN_LENGTH, cumsum=CUMSUM)\n",
    "    optimizer = tf.keras.optimizers.legacy.Adam(learning_rate=LEARNING_RATE)\n",
    "    loss = tf.keras.losses.MeanAbsoluteError()\n",
    "\n",
    "    # compile the model\n",
    "    model.compile(optimizer = optimizer, loss=loss)\n",
    "    \n",
    "    EXPERIMENT_NAME = \"LSTM_sum_prediction\"\n",
    "    current_time = datetime.datetime.now().strftime(\"%Y%m%d-%H%M%S\")\n",
    "    logging_callback = tf.keras.callbacks.TensorBoard(log_dir=f\"./logs/{EXPERIMENT_NAME}/{length}\")\n",
    "    \n",
    "    history = model.fit(train_dataset, \n",
    "                        validation_data=val_dataset,\n",
    "                        epochs=EPOCHS,\n",
    "                        callbacks=[logging_callback],\n",
    "                        verbose=0)"
   ],
   "metadata": {
    "collapsed": false,
    "ExecuteTime": {
     "end_time": "2024-03-25T07:08:26.417546Z",
     "start_time": "2024-03-25T07:07:32.434696Z"
    }
   },
   "id": "25adac75d5732fc8",
   "execution_count": 419
  },
  {
   "cell_type": "code",
   "outputs": [
    {
     "name": "stdout",
     "output_type": "stream",
     "text": [
      "The tensorboard extension is already loaded. To reload it, use:\n",
      "  %reload_ext tensorboard\n"
     ]
    }
   ],
   "source": [
    "%load_ext tensorboard"
   ],
   "metadata": {
    "collapsed": false,
    "ExecuteTime": {
     "end_time": "2024-03-25T07:08:29.921451Z",
     "start_time": "2024-03-25T07:08:29.910008Z"
    }
   },
   "id": "49b83001167afbd6",
   "execution_count": 420
  },
  {
   "cell_type": "code",
   "outputs": [
    {
     "data": {
      "text/plain": "<IPython.core.display.HTML object>",
      "text/html": "\n      <iframe id=\"tensorboard-frame-98b659dd3771b6af\" width=\"100%\" height=\"800\" frameborder=\"0\">\n      </iframe>\n      <script>\n        (function() {\n          const frame = document.getElementById(\"tensorboard-frame-98b659dd3771b6af\");\n          const url = new URL(\"/\", window.location);\n          const port = 6007;\n          if (port) {\n            url.port = port;\n          }\n          frame.src = url;\n        })();\n      </script>\n    "
     },
     "metadata": {},
     "output_type": "display_data"
    }
   ],
   "source": [
    "%tensorboard --logdir=\"logs/LSTM_sum_prediction\" --port=6007"
   ],
   "metadata": {
    "collapsed": false,
    "ExecuteTime": {
     "end_time": "2024-03-25T07:08:35.167493Z",
     "start_time": "2024-03-25T07:08:31.586898Z"
    }
   },
   "id": "c19663cf1e14f56c",
   "execution_count": 421
  },
  {
   "cell_type": "code",
   "outputs": [],
   "source": [],
   "metadata": {
    "collapsed": false,
    "ExecuteTime": {
     "end_time": "2024-03-24T19:18:07.221020Z",
     "start_time": "2024-03-24T19:18:07.218467Z"
    }
   },
   "id": "322e24faa08e621c",
   "execution_count": 400
  }
 ],
 "metadata": {
  "kernelspec": {
   "display_name": "Python 3",
   "language": "python",
   "name": "python3"
  },
  "language_info": {
   "codemirror_mode": {
    "name": "ipython",
    "version": 2
   },
   "file_extension": ".py",
   "mimetype": "text/x-python",
   "name": "python",
   "nbconvert_exporter": "python",
   "pygments_lexer": "ipython2",
   "version": "2.7.6"
  }
 },
 "nbformat": 4,
 "nbformat_minor": 5
}
