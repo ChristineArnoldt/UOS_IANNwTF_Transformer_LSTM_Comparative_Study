{
 "cells": [
  {
   "cell_type": "code",
   "execution_count": 1,
   "id": "initial_id",
   "metadata": {
    "collapsed": true,
    "ExecuteTime": {
     "end_time": "2024-03-16T09:50:23.026298Z",
     "start_time": "2024-03-16T09:50:15.497914Z"
    }
   },
   "outputs": [],
   "source": [
    "import tensorflow as tf\n",
    "import numpy as np\n",
    "import matplotlib.pyplot as plt\n",
    "import datetime"
   ]
  },
  {
   "cell_type": "code",
   "outputs": [],
   "source": [
    "# create some dummy data (ANNs can fit to random noise very well!)\n",
    "#TODO: changes this dummy data to a proper dataset with fined preprocessing\n",
    "\n",
    "# dataset size: 1024; sequence length: 28; features: 10\n",
    "x_train = np.random.normal(size=(1024, 28, 10))\n",
    "# target: 0 or 1, randomly assigned\n",
    "y_train = np.random.randint(low=0, high=2, size=(1024,1))\n",
    "train_ds = tf.data.Dataset.from_tensor_slices((x_train, y_train)).shuffle(1024).batch(32).prefetch(tf.data.AUTOTUNE)\n",
    "\n",
    "x_val = np.random.normal(size=(512, 28, 10))\n",
    "# target: 0 or 1, randomly assigned\n",
    "y_val = np.random.randint(low=0, high=2, size=(512,1))\n",
    "val_ds = tf.data.Dataset.from_tensor_slices((x_val, y_val)).batch(512).prefetch(tf.data.AUTOTUNE)\n"
   ],
   "metadata": {
    "collapsed": false,
    "ExecuteTime": {
     "end_time": "2024-03-16T09:50:23.046602Z",
     "start_time": "2024-03-16T09:50:23.025398Z"
    }
   },
   "id": "9ccd706e879d29ef",
   "execution_count": 2
  },
  {
   "cell_type": "code",
   "outputs": [],
   "source": [
    "class RNNCell(tf.keras.layers.AbstractRNNCell):\n",
    "    def __init__(self, units, **kwargs):\n",
    "        self.units = units\n",
    "        super(RNNCell, self).__init__(**kwargs)\n",
    "\n",
    "        self.linear = tf.keras.layers.Dense(units)\n",
    "\n",
    "        # layer normalization for trainability\n",
    "        self.layer_norm = tf.keras.layers.LayerNormalization()\n",
    "\n",
    "        # first recurrent layer in the RNN\n",
    "        self.recurrent_layer = tf.keras.layers.Dense(units,\n",
    "                                                       kernel_initializer= tf.keras.initializers.Orthogonal(\n",
    "                                                           gain=1.0, seed=None),\n",
    "                                                       activation=tf.nn.tanh)\n",
    "    @property\n",
    "    def state_size(self):\n",
    "        return [tf.TensorShape([self.units])]\n",
    "\n",
    "    @property\n",
    "    def output_size(self):\n",
    "        return [tf.TensorShape([self.units])]\n",
    "\n",
    "    def get_initial_state(self, inputs=None, batch_size=None, dtype=None):\n",
    "        return [tf.zeros([self.units])]\n",
    "\n",
    "    def call(self, inputs, states):\n",
    "        prev_output = states[0]\n",
    "        \n",
    "        # linearly project input\n",
    "        x = self.linear(inputs) + prev_output\n",
    "\n",
    "        # apply first recurrent kernel\n",
    "        new_state_layer = self.recurrent_layer(x)\n",
    "\n",
    "        # apply layer norm\n",
    "        x = self.layer_norm(new_state_layer)\n",
    "\n",
    "        # return output and the list of new states of the layers\n",
    "        return x, [new_state_layer]\n",
    "\n",
    "    def get_config(self):\n",
    "        return {\"recurrent_units\": self.units}"
   ],
   "metadata": {
    "collapsed": false,
    "ExecuteTime": {
     "end_time": "2024-03-16T09:50:23.055792Z",
     "start_time": "2024-03-16T09:50:23.048940Z"
    }
   },
   "id": "b800ed59ac6d4542",
   "execution_count": 3
  },
  {
   "cell_type": "code",
   "outputs": [],
   "source": [
    "import tensorflow as tf\n",
    "\n",
    "class LSTMCell(tf.keras.layers.AbstractRNNCell):\n",
    "    \n",
    "    def __init__(self, input_length=10, hidden_length=20):\n",
    "        super(LSTMCell, self).__init__()\n",
    "        self.input_length = input_length\n",
    "        self.hidden_length = hidden_length\n",
    "\n",
    "        # forget gate components\n",
    "        self.linear_forget_w1 = tf.keras.layers.Dense(self.hidden_length, use_bias=True)\n",
    "        self.linear_forget_r1 = tf.keras.layers.Dense(self.hidden_length, use_bias=False)\n",
    "\n",
    "        # input gate components\n",
    "        self.linear_gate_w2 = tf.keras.layers.Dense(self.hidden_length, use_bias=True)\n",
    "        self.linear_gate_r2 = tf.keras.layers.Dense(self.hidden_length, use_bias=False)\n",
    "\n",
    "        # cell memory components\n",
    "        self.linear_gate_w3 = tf.keras.layers.Dense(self.hidden_length, use_bias=True)\n",
    "        self.linear_gate_r3 = tf.keras.layers.Dense(self.hidden_length, use_bias=False)\n",
    "\n",
    "        # out gate components\n",
    "        self.linear_gate_w4 = tf.keras.layers.Dense(self.hidden_length, use_bias=True)\n",
    "        self.linear_gate_r4 = tf.keras.layers.Dense(self.hidden_length, use_bias=False)\n",
    "\n",
    "        self.sigmoid = tf.keras.layers.Activation('sigmoid')\n",
    "        self.tanh = tf.keras.layers.Activation('tanh')\n",
    "\n",
    "    @property\n",
    "    def state_size(self):\n",
    "        return (self.hidden_length, self.hidden_length)\n",
    "\n",
    "    def call(self, inputs, states):\n",
    "        h, c = states\n",
    "\n",
    "        # forget gate\n",
    "        f = self.sigmoid(self.linear_forget_w1(inputs) + self.linear_forget_r1(h))\n",
    "\n",
    "        # input gate\n",
    "        i = self.sigmoid(self.linear_gate_w2(inputs) + self.linear_gate_r2(h))\n",
    "\n",
    "        # cell memory\n",
    "        g = self.tanh(self.linear_gate_w3(inputs) + self.linear_gate_r3(h))\n",
    "        c_next = f * c + i * g\n",
    "\n",
    "        # output gate\n",
    "        o = self.sigmoid(self.linear_gate_w4(inputs) + self.linear_gate_r4(h))\n",
    "\n",
    "        # next hidden state\n",
    "        h_next = o * self.tanh(c_next)\n",
    "\n",
    "        return h_next, [h_next, c_next]\n"
   ],
   "metadata": {
    "collapsed": false,
    "ExecuteTime": {
     "end_time": "2024-03-16T09:50:23.061867Z",
     "start_time": "2024-03-16T09:50:23.055950Z"
    }
   },
   "id": "6803e75adae3ec2d",
   "execution_count": 4
  },
  {
   "cell_type": "code",
   "outputs": [],
   "source": [
    "class RNNModel(tf.keras.Model):\n",
    "    def __init__(self):\n",
    "        super().__init__()\n",
    "        '''\n",
    "        self.rnn_cell = RNNCell(recurrent_units_1=24,\n",
    "                                recurrent_units_2=48)\n",
    "        ''' \n",
    "        self.rnn_cell = LSTMCell(input_length=10, hidden_length=24)\n",
    "\n",
    "        # return_sequences collects and returns the output of the rnn_cell for all time-steps\n",
    "        # unroll unrolls the network for speed (at the cost of memory)\n",
    "        self.rnn_layer = tf.keras.layers.RNN(self.rnn_cell, return_sequences=False, unroll=True)\n",
    "\n",
    "        self.output_layer = tf.keras.layers.Dense(1, activation=\"sigmoid\")\n",
    "\n",
    "        self.metrics_list = [tf.keras.metrics.Mean(name=\"loss\"),\n",
    "                             tf.keras.metrics.BinaryAccuracy()]\n",
    "\n",
    "    @property\n",
    "    def metrics(self):\n",
    "        return self.metrics_list\n",
    "\n",
    "    def reset_metrics(self):\n",
    "        for metric in self.metrics:\n",
    "            metric.reset_state()\n",
    "\n",
    "    def call(self, sequence, training=False):\n",
    "\n",
    "        rnn_output = self.rnn_layer(sequence)\n",
    "\n",
    "        return self.output_layer(rnn_output)\n",
    "\n",
    "    def train_step(self, data):\n",
    "\n",
    "        \"\"\"\n",
    "        Standard train_step method, assuming we use model.compile(optimizer, loss, ...)\n",
    "        \"\"\"\n",
    "\n",
    "        sequence, label = data\n",
    "        with tf.GradientTape() as tape:\n",
    "            output = self(sequence, training=True)\n",
    "            loss = self.compiled_loss(label, output, regularization_losses=self.losses)\n",
    "        gradients = tape.gradient(loss, self.trainable_variables)\n",
    "\n",
    "        self.optimizer.apply_gradients(zip(gradients, self.trainable_variables))\n",
    "\n",
    "        self.metrics[0].update_state(loss)\n",
    "        self.metrics[1].update_state(label, output)\n",
    "\n",
    "        return {m.name : m.result() for m in self.metrics}\n",
    "\n",
    "    def test_step(self, data):\n",
    "\n",
    "        \"\"\"\n",
    "        Standard test_step method, assuming we use model.compile(optimizer, loss, ...)\n",
    "        \"\"\"\n",
    "\n",
    "        sequence, label = data\n",
    "        output = self(sequence, training=False)\n",
    "        loss = self.compiled_loss(label, output, regularization_losses=self.losses)\n",
    "\n",
    "        self.metrics[0].update_state(loss)\n",
    "        self.metrics[1].update_state(label, output)\n",
    "\n",
    "        return {m.name : m.result() for m in self.metrics}"
   ],
   "metadata": {
    "collapsed": false,
    "ExecuteTime": {
     "end_time": "2024-03-16T09:50:23.066582Z",
     "start_time": "2024-03-16T09:50:23.061801Z"
    }
   },
   "id": "533d7d1aa468e09f",
   "execution_count": 5
  },
  {
   "cell_type": "code",
   "outputs": [],
   "source": [
    "model = RNNModel()\n",
    "optimizer = tf.keras.optimizers.legacy.Adam(learning_rate=1e-3)\n",
    "loss = tf.keras.losses.BinaryCrossentropy()\n",
    "\n",
    "# compile the model (here, adding a loss function and an optimizer)\n",
    "model.compile(optimizer = optimizer, loss=loss)"
   ],
   "metadata": {
    "collapsed": false,
    "ExecuteTime": {
     "end_time": "2024-03-16T09:50:23.125608Z",
     "start_time": "2024-03-16T09:50:23.113105Z"
    }
   },
   "id": "fa6810d73b196c80",
   "execution_count": 6
  },
  {
   "cell_type": "code",
   "outputs": [],
   "source": [
    "EXPERIMENT_NAME = \"RNN_noise\"\n",
    "current_time = datetime.datetime.now().strftime(\"%Y%m%d-%H%M%S\")\n",
    "logging_callback = tf.keras.callbacks.TensorBoard(log_dir=f\"./logs/{EXPERIMENT_NAME}/{current_time}\")"
   ],
   "metadata": {
    "collapsed": false,
    "ExecuteTime": {
     "end_time": "2024-03-16T09:50:23.130726Z",
     "start_time": "2024-03-16T09:50:23.126526Z"
    }
   },
   "id": "ac8c1482c46871f1",
   "execution_count": 7
  },
  {
   "cell_type": "code",
   "outputs": [
    {
     "name": "stdout",
     "output_type": "stream",
     "text": [
      "Epoch 1/50\n"
     ]
    },
    {
     "name": "stderr",
     "output_type": "stream",
     "text": [
      "2024-03-16 10:50:23.135532: I tensorflow/core/common_runtime/executor.cc:1197] [/device:CPU:0] (DEBUG INFO) Executor start aborting (this does not indicate an error and you can ignore this message): INVALID_ARGUMENT: You must feed a value for placeholder tensor 'Placeholder/_1' with dtype int64 and shape [1024,1]\n",
      "\t [[{{node Placeholder/_1}}]]\n",
      "2024-03-16 10:50:23.135636: I tensorflow/core/common_runtime/executor.cc:1197] [/device:CPU:0] (DEBUG INFO) Executor start aborting (this does not indicate an error and you can ignore this message): INVALID_ARGUMENT: You must feed a value for placeholder tensor 'Placeholder/_1' with dtype int64 and shape [1024,1]\n",
      "\t [[{{node Placeholder/_1}}]]\n",
      "2024-03-16 10:50:24.417266: W tensorflow/tsl/platform/profile_utils/cpu_utils.cc:128] Failed to get CPU frequency: 0 Hz\n"
     ]
    },
    {
     "name": "stdout",
     "output_type": "stream",
     "text": [
      "22/32 [===================>..........] - ETA: 0s - loss: 0.7007 - binary_accuracy: 0.5000 "
     ]
    },
    {
     "name": "stderr",
     "output_type": "stream",
     "text": [
      "2024-03-16 10:50:24.960821: I tensorflow/core/common_runtime/executor.cc:1197] [/device:CPU:0] (DEBUG INFO) Executor start aborting (this does not indicate an error and you can ignore this message): INVALID_ARGUMENT: You must feed a value for placeholder tensor 'Placeholder/_1' with dtype int64 and shape [512,1]\n",
      "\t [[{{node Placeholder/_1}}]]\n"
     ]
    },
    {
     "name": "stdout",
     "output_type": "stream",
     "text": [
      "32/32 [==============================] - 2s 12ms/step - loss: 0.6998 - binary_accuracy: 0.4980 - val_loss: 0.6987 - val_binary_accuracy: 0.4863\n",
      "Epoch 2/50\n",
      "32/32 [==============================] - 0s 2ms/step - loss: 0.6951 - binary_accuracy: 0.5146 - val_loss: 0.6985 - val_binary_accuracy: 0.4531\n",
      "Epoch 3/50\n",
      "32/32 [==============================] - 0s 2ms/step - loss: 0.6914 - binary_accuracy: 0.5283 - val_loss: 0.6977 - val_binary_accuracy: 0.4629\n",
      "Epoch 4/50\n",
      "32/32 [==============================] - 0s 2ms/step - loss: 0.6883 - binary_accuracy: 0.5420 - val_loss: 0.6975 - val_binary_accuracy: 0.4824\n",
      "Epoch 5/50\n",
      "32/32 [==============================] - 0s 2ms/step - loss: 0.6855 - binary_accuracy: 0.5576 - val_loss: 0.6982 - val_binary_accuracy: 0.4805\n",
      "Epoch 6/50\n",
      "32/32 [==============================] - 0s 2ms/step - loss: 0.6830 - binary_accuracy: 0.5645 - val_loss: 0.6976 - val_binary_accuracy: 0.4805\n",
      "Epoch 7/50\n",
      "32/32 [==============================] - 0s 2ms/step - loss: 0.6804 - binary_accuracy: 0.5723 - val_loss: 0.6986 - val_binary_accuracy: 0.4727\n",
      "Epoch 8/50\n",
      "32/32 [==============================] - 0s 2ms/step - loss: 0.6776 - binary_accuracy: 0.5791 - val_loss: 0.6983 - val_binary_accuracy: 0.4727\n",
      "Epoch 9/50\n",
      "32/32 [==============================] - 0s 2ms/step - loss: 0.6749 - binary_accuracy: 0.5898 - val_loss: 0.6987 - val_binary_accuracy: 0.4707\n",
      "Epoch 10/50\n",
      "32/32 [==============================] - 0s 2ms/step - loss: 0.6716 - binary_accuracy: 0.6064 - val_loss: 0.6995 - val_binary_accuracy: 0.4707\n",
      "Epoch 11/50\n",
      "32/32 [==============================] - 0s 2ms/step - loss: 0.6685 - binary_accuracy: 0.6113 - val_loss: 0.7008 - val_binary_accuracy: 0.4648\n",
      "Epoch 12/50\n",
      "32/32 [==============================] - 0s 2ms/step - loss: 0.6647 - binary_accuracy: 0.6221 - val_loss: 0.7017 - val_binary_accuracy: 0.4609\n",
      "Epoch 13/50\n",
      "32/32 [==============================] - 0s 2ms/step - loss: 0.6605 - binary_accuracy: 0.6367 - val_loss: 0.7024 - val_binary_accuracy: 0.4668\n",
      "Epoch 14/50\n",
      "32/32 [==============================] - 0s 2ms/step - loss: 0.6558 - binary_accuracy: 0.6396 - val_loss: 0.7063 - val_binary_accuracy: 0.4609\n",
      "Epoch 15/50\n",
      "32/32 [==============================] - 0s 2ms/step - loss: 0.6498 - binary_accuracy: 0.6465 - val_loss: 0.7090 - val_binary_accuracy: 0.4668\n",
      "Epoch 16/50\n",
      "32/32 [==============================] - 0s 2ms/step - loss: 0.6434 - binary_accuracy: 0.6562 - val_loss: 0.7109 - val_binary_accuracy: 0.4824\n",
      "Epoch 17/50\n",
      "32/32 [==============================] - 0s 2ms/step - loss: 0.6354 - binary_accuracy: 0.6680 - val_loss: 0.7171 - val_binary_accuracy: 0.4785\n",
      "Epoch 18/50\n",
      "32/32 [==============================] - 0s 2ms/step - loss: 0.6265 - binary_accuracy: 0.6777 - val_loss: 0.7267 - val_binary_accuracy: 0.4824\n",
      "Epoch 19/50\n",
      "32/32 [==============================] - 0s 2ms/step - loss: 0.6179 - binary_accuracy: 0.6729 - val_loss: 0.7299 - val_binary_accuracy: 0.4863\n",
      "Epoch 20/50\n",
      "32/32 [==============================] - 0s 2ms/step - loss: 0.6043 - binary_accuracy: 0.6943 - val_loss: 0.7430 - val_binary_accuracy: 0.4961\n",
      "Epoch 21/50\n",
      "32/32 [==============================] - 0s 2ms/step - loss: 0.5917 - binary_accuracy: 0.7012 - val_loss: 0.7472 - val_binary_accuracy: 0.5117\n",
      "Epoch 22/50\n",
      "32/32 [==============================] - 0s 2ms/step - loss: 0.5747 - binary_accuracy: 0.7148 - val_loss: 0.7616 - val_binary_accuracy: 0.5000\n",
      "Epoch 23/50\n",
      "32/32 [==============================] - 0s 2ms/step - loss: 0.5592 - binary_accuracy: 0.7295 - val_loss: 0.7583 - val_binary_accuracy: 0.4863\n",
      "Epoch 24/50\n",
      "32/32 [==============================] - 0s 2ms/step - loss: 0.5435 - binary_accuracy: 0.7432 - val_loss: 0.7733 - val_binary_accuracy: 0.4980\n",
      "Epoch 25/50\n",
      "32/32 [==============================] - 0s 2ms/step - loss: 0.5266 - binary_accuracy: 0.7441 - val_loss: 0.7999 - val_binary_accuracy: 0.4922\n",
      "Epoch 26/50\n",
      "32/32 [==============================] - 0s 2ms/step - loss: 0.5101 - binary_accuracy: 0.7559 - val_loss: 0.8040 - val_binary_accuracy: 0.5039\n",
      "Epoch 27/50\n",
      "32/32 [==============================] - 0s 2ms/step - loss: 0.4966 - binary_accuracy: 0.7656 - val_loss: 0.8203 - val_binary_accuracy: 0.5039\n",
      "Epoch 28/50\n",
      "32/32 [==============================] - 0s 2ms/step - loss: 0.4745 - binary_accuracy: 0.7891 - val_loss: 0.8515 - val_binary_accuracy: 0.4922\n",
      "Epoch 29/50\n",
      "32/32 [==============================] - 0s 2ms/step - loss: 0.4630 - binary_accuracy: 0.7959 - val_loss: 0.8988 - val_binary_accuracy: 0.5039\n",
      "Epoch 30/50\n",
      "32/32 [==============================] - 0s 2ms/step - loss: 0.4418 - binary_accuracy: 0.8008 - val_loss: 0.8922 - val_binary_accuracy: 0.5078\n",
      "Epoch 31/50\n",
      "32/32 [==============================] - 0s 2ms/step - loss: 0.4250 - binary_accuracy: 0.8135 - val_loss: 0.9307 - val_binary_accuracy: 0.5117\n",
      "Epoch 32/50\n",
      "32/32 [==============================] - 0s 2ms/step - loss: 0.4023 - binary_accuracy: 0.8252 - val_loss: 0.9359 - val_binary_accuracy: 0.5195\n",
      "Epoch 33/50\n",
      "32/32 [==============================] - 0s 2ms/step - loss: 0.3827 - binary_accuracy: 0.8359 - val_loss: 0.9765 - val_binary_accuracy: 0.5059\n",
      "Epoch 34/50\n",
      "32/32 [==============================] - 0s 2ms/step - loss: 0.3625 - binary_accuracy: 0.8555 - val_loss: 1.0392 - val_binary_accuracy: 0.5020\n",
      "Epoch 35/50\n",
      "32/32 [==============================] - 0s 2ms/step - loss: 0.3436 - binary_accuracy: 0.8643 - val_loss: 1.0387 - val_binary_accuracy: 0.5059\n",
      "Epoch 36/50\n",
      "32/32 [==============================] - 0s 2ms/step - loss: 0.3273 - binary_accuracy: 0.8809 - val_loss: 1.0689 - val_binary_accuracy: 0.5117\n",
      "Epoch 37/50\n",
      "32/32 [==============================] - 0s 2ms/step - loss: 0.3114 - binary_accuracy: 0.8789 - val_loss: 1.0901 - val_binary_accuracy: 0.5000\n",
      "Epoch 38/50\n",
      "32/32 [==============================] - 0s 2ms/step - loss: 0.2935 - binary_accuracy: 0.8926 - val_loss: 1.1352 - val_binary_accuracy: 0.5078\n",
      "Epoch 39/50\n",
      "32/32 [==============================] - 0s 2ms/step - loss: 0.2887 - binary_accuracy: 0.8906 - val_loss: 1.1520 - val_binary_accuracy: 0.5039\n",
      "Epoch 40/50\n",
      "32/32 [==============================] - 0s 2ms/step - loss: 0.2691 - binary_accuracy: 0.9004 - val_loss: 1.2199 - val_binary_accuracy: 0.5059\n",
      "Epoch 41/50\n",
      "32/32 [==============================] - 0s 2ms/step - loss: 0.2486 - binary_accuracy: 0.9170 - val_loss: 1.2340 - val_binary_accuracy: 0.5059\n",
      "Epoch 42/50\n",
      "32/32 [==============================] - 0s 2ms/step - loss: 0.2380 - binary_accuracy: 0.9258 - val_loss: 1.2746 - val_binary_accuracy: 0.5039\n",
      "Epoch 43/50\n",
      "32/32 [==============================] - 0s 2ms/step - loss: 0.2207 - binary_accuracy: 0.9268 - val_loss: 1.3514 - val_binary_accuracy: 0.4961\n",
      "Epoch 44/50\n",
      "32/32 [==============================] - 0s 2ms/step - loss: 0.2071 - binary_accuracy: 0.9355 - val_loss: 1.3560 - val_binary_accuracy: 0.4980\n",
      "Epoch 45/50\n",
      "32/32 [==============================] - 0s 2ms/step - loss: 0.1966 - binary_accuracy: 0.9424 - val_loss: 1.4330 - val_binary_accuracy: 0.4980\n",
      "Epoch 46/50\n",
      "32/32 [==============================] - 0s 2ms/step - loss: 0.1858 - binary_accuracy: 0.9424 - val_loss: 1.4427 - val_binary_accuracy: 0.5000\n",
      "Epoch 47/50\n",
      "32/32 [==============================] - 0s 2ms/step - loss: 0.1774 - binary_accuracy: 0.9482 - val_loss: 1.4934 - val_binary_accuracy: 0.5020\n",
      "Epoch 48/50\n",
      "32/32 [==============================] - 0s 2ms/step - loss: 0.1690 - binary_accuracy: 0.9502 - val_loss: 1.5535 - val_binary_accuracy: 0.4980\n",
      "Epoch 49/50\n",
      "32/32 [==============================] - 0s 2ms/step - loss: 0.1620 - binary_accuracy: 0.9531 - val_loss: 1.5632 - val_binary_accuracy: 0.5117\n",
      "Epoch 50/50\n",
      "32/32 [==============================] - 0s 2ms/step - loss: 0.1588 - binary_accuracy: 0.9502 - val_loss: 1.6009 - val_binary_accuracy: 0.5039\n"
     ]
    }
   ],
   "source": [
    "history = model.fit(train_ds,\n",
    "                    validation_data=val_ds,\n",
    "                    initial_epoch=0,\n",
    "                    epochs=50,\n",
    "                    callbacks=[logging_callback])"
   ],
   "metadata": {
    "collapsed": false,
    "ExecuteTime": {
     "end_time": "2024-03-16T09:50:28.404786Z",
     "start_time": "2024-03-16T09:50:23.130193Z"
    }
   },
   "id": "ea7da146970ef62",
   "execution_count": 8
  },
  {
   "cell_type": "code",
   "outputs": [
    {
     "name": "stderr",
     "output_type": "stream",
     "text": [
      "2024-03-16 10:50:28.642717: I tensorflow/core/common_runtime/executor.cc:1197] [/device:CPU:0] (DEBUG INFO) Executor start aborting (this does not indicate an error and you can ignore this message): INVALID_ARGUMENT: You must feed a value for placeholder tensor 'input_1' with dtype float and shape [?,28,10]\n",
      "\t [[{{node input_1}}]]\n",
      "2024-03-16 10:50:28.670536: I tensorflow/core/common_runtime/executor.cc:1197] [/device:CPU:0] (DEBUG INFO) Executor start aborting (this does not indicate an error and you can ignore this message): INVALID_ARGUMENT: You must feed a value for placeholder tensor 'input_1' with dtype float and shape [?,28,10]\n",
      "\t [[{{node input_1}}]]\n",
      "2024-03-16 10:50:28.677561: I tensorflow/core/common_runtime/executor.cc:1197] [/device:CPU:0] (DEBUG INFO) Executor start aborting (this does not indicate an error and you can ignore this message): INVALID_ARGUMENT: You must feed a value for placeholder tensor 'sequence' with dtype float and shape [?,28,10]\n",
      "\t [[{{node sequence}}]]\n",
      "2024-03-16 10:50:28.683227: I tensorflow/core/common_runtime/executor.cc:1197] [/device:CPU:0] (DEBUG INFO) Executor start aborting (this does not indicate an error and you can ignore this message): INVALID_ARGUMENT: You must feed a value for placeholder tensor 'input_1' with dtype float and shape [?,28,10]\n",
      "\t [[{{node input_1}}]]\n",
      "2024-03-16 10:50:28.688631: I tensorflow/core/common_runtime/executor.cc:1197] [/device:CPU:0] (DEBUG INFO) Executor start aborting (this does not indicate an error and you can ignore this message): INVALID_ARGUMENT: You must feed a value for placeholder tensor 'sequence' with dtype float and shape [?,28,10]\n",
      "\t [[{{node sequence}}]]\n",
      "2024-03-16 10:50:28.694192: I tensorflow/core/common_runtime/executor.cc:1197] [/device:CPU:0] (DEBUG INFO) Executor start aborting (this does not indicate an error and you can ignore this message): INVALID_ARGUMENT: You must feed a value for placeholder tensor 'input_1' with dtype float and shape [?,28,10]\n",
      "\t [[{{node input_1}}]]\n",
      "2024-03-16 10:50:28.699111: I tensorflow/core/common_runtime/executor.cc:1197] [/device:CPU:0] (DEBUG INFO) Executor start aborting (this does not indicate an error and you can ignore this message): INVALID_ARGUMENT: You must feed a value for placeholder tensor 'inputs' with dtype float and shape [?,28,10]\n",
      "\t [[{{node inputs}}]]\n",
      "2024-03-16 10:50:28.704612: I tensorflow/core/common_runtime/executor.cc:1197] [/device:CPU:0] (DEBUG INFO) Executor start aborting (this does not indicate an error and you can ignore this message): INVALID_ARGUMENT: You must feed a value for placeholder tensor 'inputs' with dtype float and shape [?,28,10]\n",
      "\t [[{{node inputs}}]]\n",
      "2024-03-16 10:50:28.721827: I tensorflow/core/common_runtime/executor.cc:1197] [/device:CPU:0] (DEBUG INFO) Executor start aborting (this does not indicate an error and you can ignore this message): INVALID_ARGUMENT: You must feed a value for placeholder tensor 'sequence' with dtype float and shape [?,28,10]\n",
      "\t [[{{node sequence}}]]\n",
      "2024-03-16 10:50:28.726998: I tensorflow/core/common_runtime/executor.cc:1197] [/device:CPU:0] (DEBUG INFO) Executor start aborting (this does not indicate an error and you can ignore this message): INVALID_ARGUMENT: You must feed a value for placeholder tensor 'sequence' with dtype float and shape [?,28,10]\n",
      "\t [[{{node sequence}}]]\n",
      "2024-03-16 10:50:28.751027: I tensorflow/core/common_runtime/executor.cc:1197] [/device:CPU:0] (DEBUG INFO) Executor start aborting (this does not indicate an error and you can ignore this message): INVALID_ARGUMENT: You must feed a value for placeholder tensor 'input_1' with dtype float and shape [?,28,10]\n",
      "\t [[{{node input_1}}]]\n",
      "2024-03-16 10:50:28.757810: I tensorflow/core/common_runtime/executor.cc:1197] [/device:CPU:0] (DEBUG INFO) Executor start aborting (this does not indicate an error and you can ignore this message): INVALID_ARGUMENT: You must feed a value for placeholder tensor 'sequence' with dtype float and shape [?,28,10]\n",
      "\t [[{{node sequence}}]]\n",
      "2024-03-16 10:50:28.762957: I tensorflow/core/common_runtime/executor.cc:1197] [/device:CPU:0] (DEBUG INFO) Executor start aborting (this does not indicate an error and you can ignore this message): INVALID_ARGUMENT: You must feed a value for placeholder tensor 'sequence' with dtype float and shape [?,28,10]\n",
      "\t [[{{node sequence}}]]\n",
      "2024-03-16 10:50:29.127813: I tensorflow/core/common_runtime/executor.cc:1197] [/device:CPU:0] (DEBUG INFO) Executor start aborting (this does not indicate an error and you can ignore this message): INVALID_ARGUMENT: You must feed a value for placeholder tensor 'inputs' with dtype float and shape [?,28,10]\n",
      "\t [[{{node inputs}}]]\n",
      "2024-03-16 10:50:29.133622: I tensorflow/core/common_runtime/executor.cc:1197] [/device:CPU:0] (DEBUG INFO) Executor start aborting (this does not indicate an error and you can ignore this message): INVALID_ARGUMENT: You must feed a value for placeholder tensor 'inputs' with dtype float and shape [?,28,10]\n",
      "\t [[{{node inputs}}]]\n",
      "WARNING:absl:Found untraced functions such as dense_layer_call_fn, dense_layer_call_and_return_conditional_losses, dense_1_layer_call_fn, dense_1_layer_call_and_return_conditional_losses, dense_2_layer_call_fn while saving (showing 5 of 20). These functions will not be directly callable after loading.\n",
      "2024-03-16 10:50:29.500735: I tensorflow/core/common_runtime/executor.cc:1197] [/device:CPU:0] (DEBUG INFO) Executor start aborting (this does not indicate an error and you can ignore this message): INVALID_ARGUMENT: You must feed a value for placeholder tensor 'serving_default_input_1' with dtype float and shape [?,28,10]\n",
      "\t [[{{node serving_default_input_1}}]]\n"
     ]
    },
    {
     "name": "stdout",
     "output_type": "stream",
     "text": [
      "INFO:tensorflow:Assets written to: saved_model/assets\n"
     ]
    },
    {
     "name": "stderr",
     "output_type": "stream",
     "text": [
      "INFO:tensorflow:Assets written to: saved_model/assets\n",
      "WARNING:absl:<__main__.LSTMCell object at 0x15f980700> has the same name 'LSTMCell' as a built-in Keras object. Consider renaming <class '__main__.LSTMCell'> to avoid naming conflicts when loading with `tf.keras.models.load_model`. If renaming is not possible, pass the object in the `custom_objects` parameter of the load function.\n"
     ]
    }
   ],
   "source": [
    "# save the complete model (incl. optimizer state, loss function, metrics etc.)\n",
    "# ideally save to google drive if you're using colab\n",
    "model.save(\"saved_model\")"
   ],
   "metadata": {
    "collapsed": false,
    "ExecuteTime": {
     "end_time": "2024-03-16T09:50:29.877047Z",
     "start_time": "2024-03-16T09:50:28.404580Z"
    }
   },
   "id": "c9efef9fb83a2f4e",
   "execution_count": 9
  },
  {
   "cell_type": "code",
   "outputs": [
    {
     "data": {
      "text/plain": "<Figure size 640x480 with 1 Axes>",
      "image/png": "[encoded data removed]"
     },
     "metadata": {},
     "output_type": "display_data"
    }
   ],
   "source": [
    "plt.plot(history.history[\"loss\"])\n",
    "plt.plot(history.history[\"val_loss\"])\n",
    "plt.legend(labels=[\"training\",\"validation\"])\n",
    "plt.xlabel(\"Epoch\")\n",
    "plt.ylabel(\"Binary Crossentropy Loss\")\n",
    "plt.show()"
   ],
   "metadata": {
    "collapsed": false,
    "ExecuteTime": {
     "end_time": "2024-03-16T09:50:29.972101Z",
     "start_time": "2024-03-16T09:50:29.879190Z"
    }
   },
   "id": "5987439449ab87c5",
   "execution_count": 10
  },
  {
   "cell_type": "code",
   "outputs": [],
   "source": [
    "%load_ext tensorboard"
   ],
   "metadata": {
    "collapsed": false,
    "ExecuteTime": {
     "end_time": "2024-03-16T09:50:29.976207Z",
     "start_time": "2024-03-16T09:50:29.969918Z"
    }
   },
   "id": "49b83001167afbd6",
   "execution_count": 11
  },
  {
   "cell_type": "code",
   "outputs": [
    {
     "data": {
      "text/plain": "ERROR: Failed to launch TensorBoard (exited with 1).\nContents of stderr:\nNOTE: Using experimental fast data loading logic. To disable, pass\n    \"--load_fast=false\" and report issues on GitHub. More details:\n    https://github.com/tensorflow/tensorboard/issues/4784\n\nAddress already in use\nPort 6006 is in use by another program. Either identify and stop that program, or start the server with a different port."
     },
     "metadata": {},
     "output_type": "display_data"
    }
   ],
   "source": [
    "%tensorboard --logdir=\"logs/RNN_noise\""
   ],
   "metadata": {
    "collapsed": false,
    "ExecuteTime": {
     "end_time": "2024-03-16T09:50:33.015912Z",
     "start_time": "2024-03-16T09:50:29.977773Z"
    }
   },
   "id": "c19663cf1e14f56c",
   "execution_count": 12
  },
  {
   "cell_type": "code",
   "outputs": [],
   "source": [],
   "metadata": {
    "collapsed": false,
    "ExecuteTime": {
     "end_time": "2024-03-16T09:50:33.021817Z",
     "start_time": "2024-03-16T09:50:33.016270Z"
    }
   },
   "id": "322e24faa08e621c",
   "execution_count": 12
  }
 ],
 "metadata": {
  "kernelspec": {
   "display_name": "Python 3",
   "language": "python",
   "name": "python3"
  },
  "language_info": {
   "codemirror_mode": {
    "name": "ipython",
    "version": 2
   },
   "file_extension": ".py",
   "mimetype": "text/x-python",
   "name": "python",
   "nbconvert_exporter": "python",
   "pygments_lexer": "ipython2",
   "version": "2.7.6"
  }
 },
 "nbformat": 4,
 "nbformat_minor": 5
}
